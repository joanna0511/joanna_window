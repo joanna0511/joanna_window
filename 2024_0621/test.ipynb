{
 "cells": [
  {
   "cell_type": "code",
   "execution_count": null,
   "metadata": {},
   "outputs": [
    {
     "ename": "",
     "evalue": "",
     "output_type": "error",
     "traceback": [
      "\u001b[1;31m執行具有 'venv1 (Python 3.10.14)' 的儲存格需要 ipykernel 套件。\n",
      "\u001b[1;31m執行下列命令以將 'ipykernel' 安裝到 Python 環境中。\n",
      "\u001b[1;31m命令: 'conda install -n venv1 ipykernel --update-deps --force-reinstall'"
     ]
    }
   ],
   "source": [
    "import pandas as pd\n",
    "import yfinance as yf\n",
    "import pandas_ta as ta\n",
    "\n",
    "# 確保所有庫正確安裝並運行\n",
    "yf.pdr_override()\n",
    "\n",
    "# 獲取股票數據\n",
    "tsmc = yf.download(\"2330.TW\", start=\"2023-01-01\", end=\"2023-06-21\")\n",
    "\n",
    "# 計算RSI指標\n",
    "rsi = ta.rsi(tsmc['Close'])\n",
    "\n",
    "# 計算MACD指標\n",
    "macd = ta.macd(tsmc['Close'])\n",
    "\n",
    "# 其他指標如SMA、EMA、ATR等都可以在這個庫中找到相應的函數\n"
   ]
  },
  {
   "cell_type": "code",
   "execution_count": null,
   "metadata": {},
   "outputs": [],
   "source": []
  }
 ],
 "metadata": {
  "kernelspec": {
   "display_name": "venv1",
   "language": "python",
   "name": "python3"
  },
  "language_info": {
   "name": "python",
   "version": "3.10.14"
  }
 },
 "nbformat": 4,
 "nbformat_minor": 2
}
