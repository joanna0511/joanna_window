{
 "cells": [
  {
   "cell_type": "code",
   "execution_count": 2,
   "metadata": {},
   "outputs": [
    {
     "data": {
      "text/html": [
       "\n",
       "        <iframe\n",
       "            width=\"100%\"\n",
       "            height=\"650\"\n",
       "            src=\"http://127.0.0.1:8050/\"\n",
       "            frameborder=\"0\"\n",
       "            allowfullscreen\n",
       "            \n",
       "        ></iframe>\n",
       "        "
      ],
      "text/plain": [
       "<IPython.lib.display.IFrame at 0x1fd2c2f2b90>"
      ]
     },
     "metadata": {},
     "output_type": "display_data"
    }
   ],
   "source": [
    "\n",
    "from dash import Dash,dcc,html,Input,Output,callback\n",
    "\n",
    "app = Dash(__name__)\n",
    "\n",
    "app.layout = html.Div(\n",
    "    [\n",
    "        html.H6(\"改變文字欄位的內容\"),\n",
    "        html.Div(\n",
    "            [\n",
    "                \"Input:\",\n",
    "                dcc.Input(id='my_input',value=\"初始值\", type=\"text\")\n",
    "            ]\n",
    "        ),\n",
    "       html.Br(),\n",
    "       html.Div(id='my_output') \n",
    "    ]\n",
    ")\n",
    "\n",
    "@callback(\n",
    "       Output(component_id='my_output',component_property='children'),\n",
    "       Input(component_id='my_input',component_property='value')\n",
    ")\n",
    "def update_output_div(input_value:str) -> str:\n",
    "    return f'Output:{input_value}'\n",
    "\n",
    "\n",
    "app.run(debug=True)\n"
   ]
  }
 ],
 "metadata": {
  "kernelspec": {
   "display_name": "venv2",
   "language": "python",
   "name": "python3"
  },
  "language_info": {
   "codemirror_mode": {
    "name": "ipython",
    "version": 3
   },
   "file_extension": ".py",
   "mimetype": "text/x-python",
   "name": "python",
   "nbconvert_exporter": "python",
   "pygments_lexer": "ipython3",
   "version": "3.11.9"
  }
 },
 "nbformat": 4,
 "nbformat_minor": 2
}
