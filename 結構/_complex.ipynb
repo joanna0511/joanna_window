{
 "cells": [
  {
   "cell_type": "code",
   "execution_count": 1,
   "metadata": {},
   "outputs": [
    {
     "data": {
      "text/plain": [
       "[['robert', 78, 92, 65], ['jenny', 65, 96, 72], ['alice', 85, 72, 95]]"
      ]
     },
     "execution_count": 1,
     "metadata": {},
     "output_type": "execute_result"
    }
   ],
   "source": [
    "students:list[list]= [\n",
    "                        ['robert',78,92,65],\n",
    "                        ['jenny',65,96,72],\n",
    "                        ['alice',85,72,95]\n",
    "                    ]\n",
    "\n",
    "students"
   ]
  },
  {
   "cell_type": "code",
   "execution_count": 2,
   "metadata": {},
   "outputs": [
    {
     "name": "stdout",
     "output_type": "stream",
     "text": [
      "[{'name': 'John', 'chinese': 92, 'english': 86, 'math': 90}, {'name': 'Mary', 'chinese': 78, 'english': 62, 'math': 80}, {'name': 'Vincent', 'chinese': 90, 'english': 92, 'math': 65}]\n"
     ]
    }
   ],
   "source": [
    "students:list[dict]=[\n",
    "    {'name': 'John', 'chinese': 92, 'english': 86, 'math': 90},\n",
    "    {'name': 'Mary', 'chinese': 78, 'english': 62, 'math': 80},\n",
    "    {'name': 'Vincent', 'chinese': 90, 'english': 92, 'math': 65}\n",
    " ]\n",
    "print(students)"
   ]
  }
 ],
 "metadata": {
  "kernelspec": {
   "display_name": "venv1",
   "language": "python",
   "name": "python3"
  },
  "language_info": {
   "codemirror_mode": {
    "name": "ipython",
    "version": 3
   },
   "file_extension": ".py",
   "mimetype": "text/x-python",
   "name": "python",
   "nbconvert_exporter": "python",
   "pygments_lexer": "ipython3",
   "version": "3.10.14"
  }
 },
 "nbformat": 4,
 "nbformat_minor": 2
}
