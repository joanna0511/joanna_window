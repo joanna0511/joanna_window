{
 "cells": [
  {
   "cell_type": "code",
   "execution_count": null,
   "metadata": {},
   "outputs": [],
   "source": [
    "from dash import Dash,html\n",
    "import pandas as pd\n",
    "\n",
    "app=Dash(__name__)\n",
    "\n",
    "df = pd.read_csv('https://gist.githubusercontent.com/chriddyp/c78bf172206ce24f77d6363a2d754b59/raw/c353e8ef842413cae56ae3920b8fd78468aa4cb2/usa-agricultural-exports-2011.csv')\n",
    "app.layout=html.Div(\n",
    "    dcc.Graph(\n",
    "        id='Life-exp-vs-gdp'\n",
    "    )\n",
    ")\n",
    "fig=px.scatter(df, \n",
    "               x=\"gdp per capita\",\n",
    "               y=\"Life expectancy\",\n",
    "               siz\n",
    "               \n",
    "               )\n",
    "app.run(debug=True)"
   ]
  }
 ],
 "metadata": {
  "language_info": {
   "name": "python"
  }
 },
 "nbformat": 4,
 "nbformat_minor": 2
}
